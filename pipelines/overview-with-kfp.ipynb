{
 "cells": [
  {
   "cell_type": "code",
   "execution_count": null,
   "metadata": {},
   "outputs": [],
   "source": [
    "!pip install kfp > /dev/null 2>&1"
   ]
  },
  {
   "cell_type": "code",
   "execution_count": null,
   "metadata": {},
   "outputs": [],
   "source": [
    "import os\n",
    "import kfp\n",
    "import pandas as pd\n",
    "from datetime import datetime\n",
    "from kubernetes.client.models import V1EnvVar, V1SecretKeySelector"
   ]
  },
  {
   "cell_type": "code",
   "execution_count": null,
   "metadata": {},
   "outputs": [],
   "source": [
    "# Notebooks for the pipeline\n",
    "## generate-stats.ipynb\n",
    "## generate-contributions.ipynb\n",
    "## overview.ipynb"
   ]
  },
  {
   "cell_type": "code",
   "execution_count": null,
   "metadata": {},
   "outputs": [],
   "source": [
    "url = 'http://yukked1.fyre.ibm.com:31380/pipeline'\n",
    "\n",
    "# configures artifact location\n",
    "notebook_location = kfp.dsl.ArtifactLocation.s3(\n",
    "                            bucket=\"lresende\",\n",
    "                            endpoint=\"yukked1.fyre.ibm.com:31128\",\n",
    "                            insecure=True,\n",
    "                            access_key_secret=V1SecretKeySelector(name=\"mlpipeline-minio-artifact\", key=\"accesskey\"),\n",
    "                            secret_key_secret=V1SecretKeySelector(name=\"mlpipeline-minio-artifact\", key=\"secretkey\"))\n",
    "\n",
    "def run_notebook_op(name, notebook):\n",
    "    source = '{}.{}'.format(notebook, 'ipynb')\n",
    "    result_ipynb = '{}_output.{}'.format(notebook, 'ipynb')\n",
    "    result_html = '{}_output.{}'.format(notebook, 'html')\n",
    "    \n",
    "    op= kfp.dsl.ContainerOp(name=name,\n",
    "                        image='lresende/notebook-kubeflow-pipeline:dev',\n",
    "                        artifact_location=notebook_location,\n",
    "                        arguments=[\n",
    "                            '--endpoint', 'http://yukked1.fyre.ibm.com:31128',\n",
    "                            '--user', 'minio',\n",
    "                            '--password', 'minio123',\n",
    "                            '--bucket', 'lresende',\n",
    "                            '--input', source,\n",
    "                            '--output', result_ipynb,\n",
    "                            '--output_html', result_html,                            \n",
    "                        ])\n",
    "    op.set_image_pull_policy('Always')\n",
    "    \n",
    "    return op\n",
    "    \n",
    "def demo_pipeline():\n",
    "    stats_op = run_notebook_op('stats', 'generate-stats')\n",
    "    contributions_op = run_notebook_op('contributions', 'generate-contributions')\n",
    "    run_notebook_op('overview', 'overview').after(stats_op, contributions_op)\n",
    "    \n",
    "# Compile the new pipeline\n",
    "kfp.compiler.Compiler().compile(demo_pipeline,'generated-pipelines/pydata_pipeline.tar.gz')\n",
    "\n",
    "# Upload the compiled pipeline\n",
    "timestamp = datetime.now().strftime(\"%m%d%H%M%S\")\n",
    "name='pydata-pipeline'+timestamp\n",
    "client = kfp.Client(host=url)\n",
    "client.upload_pipeline('generated-pipelines/pydata_pipeline.tar.gz',pipeline_name=name)\n",
    "experiment = client.create_experiment(name=name)\n",
    "run = client.run_pipeline(experiment.id, name, 'generated-pipelines/pydata_pipeline.tar.gz')"
   ]
  },
  {
   "cell_type": "code",
   "execution_count": null,
   "metadata": {},
   "outputs": [],
   "source": []
  }
 ],
 "metadata": {
  "kernelspec": {
   "display_name": "Python 3",
   "language": "python",
   "name": "python3"
  },
  "language_info": {
   "codemirror_mode": {
    "name": "ipython",
    "version": 3
   },
   "file_extension": ".py",
   "mimetype": "text/x-python",
   "name": "python",
   "nbconvert_exporter": "python",
   "pygments_lexer": "ipython3",
   "version": "3.6.9"
  }
 },
 "nbformat": 4,
 "nbformat_minor": 4
}
