{
 "cells": [
  {
   "cell_type": "code",
   "execution_count": null,
   "metadata": {},
   "outputs": [],
   "source": [
    "!pip install PyGithub pandas > /dev/null 2>&1"
   ]
  },
  {
   "cell_type": "code",
   "execution_count": null,
   "metadata": {},
   "outputs": [],
   "source": [
    "import os\n",
    "import datetime\n",
    "import pandas as pd\n",
    "from github import Github"
   ]
  },
  {
   "cell_type": "code",
   "execution_count": null,
   "metadata": {},
   "outputs": [],
   "source": [
    "github = Github(os.environ['GITHUB_TOKEN'])"
   ]
  },
  {
   "cell_type": "markdown",
   "metadata": {},
   "source": [
    "# Jupyter Community Stats "
   ]
  },
  {
   "cell_type": "code",
   "execution_count": null,
   "metadata": {},
   "outputs": [],
   "source": [
    "repositories = {}\n",
    "repositories['jupyter'] = ['notebook','jupyter_client', 'nb2kg', 'enterprise_gateway', 'kernel_gateway']\n",
    "repositories['jupyterlab'] = ['jupyterlab']\n",
    "repositories['jupyterhub'] = ['jupyterhub']\n",
    "repositories['ipython'] = ['ipython']\n",
    "repositories['irkernel'] = ['irkernel']\n",
    "repositories['apache'] = ['incubator-toree']\n",
    "\n",
    "community_stats = {}\n",
    "index = 0\n",
    "for org, repos in repositories.items():\n",
    "    github_org = github.get_organization(org)\n",
    "    for repo in repos:\n",
    "        github_repo = github_org.get_repo(repo)\n",
    "        contributors = github_repo.get_contributors().totalCount\n",
    "        community_stats[index] = {'org':org, 'repo':repo, 'full_name':github_repo.full_name, 'stars':github_repo.stargazers_count, 'watchers':github_repo.watchers_count, 'forks':github_repo.forks_count,'contributors':contributors}\n",
    "        index = index+1\n",
    "\n",
    "community_stats_df = pd.DataFrame.from_dict(community_stats, orient='index')"
   ]
  },
  {
   "cell_type": "code",
   "execution_count": null,
   "metadata": {},
   "outputs": [],
   "source": [
    "community_stats_df.to_csv('community_stats.csv', index=False)"
   ]
  }
 ],
 "metadata": {
  "kernelspec": {
   "display_name": "Python 3",
   "language": "python",
   "name": "python3"
  },
  "language_info": {
   "codemirror_mode": {
    "name": "ipython",
    "version": 3
   },
   "file_extension": ".py",
   "mimetype": "text/x-python",
   "name": "python",
   "nbconvert_exporter": "python",
   "pygments_lexer": "ipython3",
   "version": "3.6.9"
  }
 },
 "nbformat": 4,
 "nbformat_minor": 4
}
