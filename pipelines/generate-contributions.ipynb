{
 "cells": [
  {
   "cell_type": "code",
   "execution_count": null,
   "metadata": {},
   "outputs": [],
   "source": [
    "!pip install PyGithub pandas > /dev/null 2>&1"
   ]
  },
  {
   "cell_type": "code",
   "execution_count": null,
   "metadata": {},
   "outputs": [],
   "source": [
    "import os\n",
    "import datetime\n",
    "import pandas as pd\n",
    "from github import Github"
   ]
  },
  {
   "cell_type": "code",
   "execution_count": null,
   "metadata": {},
   "outputs": [],
   "source": [
    "github = Github(os.environ['GITHUB_TOKEN'])"
   ]
  },
  {
   "cell_type": "markdown",
   "metadata": {},
   "source": [
    "# Jupyter Enterprise Gateway Contribution Stats"
   ]
  },
  {
   "cell_type": "code",
   "execution_count": null,
   "metadata": {},
   "outputs": [],
   "source": [
    "github_org = github.get_organization('jupyter')\n",
    "github_repo = github_org.get_repo('enterprise_gateway')\n",
    "\n",
    "datetime_start = datetime.datetime.now() + datetime.timedelta(-180) #datetime.datetime(2018,7,1)\n",
    "datetime_end = datetime.datetime.now()\n",
    "\n",
    "#Read contributions for a given period\n",
    "commits = github_repo.get_commits(since=datetime_start, until=datetime_end)\n",
    "\n",
    "commits_dict = {}\n",
    "for c in commits:\n",
    "    if c.author:\n",
    "        commits_dict[c.sha] = {'userid':c.author.login, 'author_name':c.author.name, 'author_email':c.author.email, 'commit-hash':c.sha, 'date':c.commit.author.date}\n",
    "\n",
    "contributions_df = pd.DataFrame.from_dict(commits_dict, orient='index')\n",
    "contributions_df.head()\n",
    "\n"
   ]
  },
  {
   "cell_type": "code",
   "execution_count": null,
   "metadata": {},
   "outputs": [],
   "source": [
    "contributions_df.to_csv('community_contributions.csv', index=False)\n"
   ]
  },
  {
   "cell_type": "code",
   "execution_count": null,
   "metadata": {},
   "outputs": [],
   "source": []
  }
 ],
 "metadata": {
  "kernelspec": {
   "display_name": "Python 3",
   "language": "python",
   "name": "python3"
  },
  "language_info": {
   "codemirror_mode": {
    "name": "ipython",
    "version": 3
   },
   "file_extension": ".py",
   "mimetype": "text/x-python",
   "name": "python",
   "nbconvert_exporter": "python",
   "pygments_lexer": "ipython3",
   "version": "3.6.9"
  }
 },
 "nbformat": 4,
 "nbformat_minor": 4
}
